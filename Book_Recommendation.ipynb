{
  "nbformat": 4,
  "nbformat_minor": 0,
  "metadata": {
    "colab": {
      "provenance": [],
      "collapsed_sections": [
        "VbThjFGHwS7y"
      ],
      "authorship_tag": "ABX9TyMBKNwcaWy/dw0/Y6l/cOku",
      "include_colab_link": true
    },
    "kernelspec": {
      "name": "python3",
      "display_name": "Python 3"
    },
    "language_info": {
      "name": "python"
    }
  },
  "cells": [
    {
      "cell_type": "markdown",
      "metadata": {
        "id": "view-in-github",
        "colab_type": "text"
      },
      "source": [
        "<a href=\"https://colab.research.google.com/github/suhailamohammed/book-recommender-backend/blob/main/Book_Recommendation.ipynb\" target=\"_parent\"><img src=\"https://colab.research.google.com/assets/colab-badge.svg\" alt=\"Open In Colab\"/></a>"
      ]
    },
    {
      "cell_type": "markdown",
      "source": [
        "## Getting started on Recommendation System"
      ],
      "metadata": {
        "id": "VbThjFGHwS7y"
      }
    },
    {
      "cell_type": "code",
      "execution_count": null,
      "metadata": {
        "id": "TLW_E9NueM4z"
      },
      "outputs": [],
      "source": [
        "import pandas as pd"
      ]
    },
    {
      "cell_type": "code",
      "source": [
        "file_path = 'my_books.csv'\n",
        "df = pd.read_csv(file_path)\n",
        "\n",
        "print(df.head())"
      ],
      "metadata": {
        "colab": {
          "base_uri": "https://localhost:8080/"
        },
        "id": "B_enz_q08_fK",
        "outputId": "dd236256-e6b5-4227-bfa7-4f081028f014"
      },
      "execution_count": null,
      "outputs": [
        {
          "output_type": "stream",
          "name": "stdout",
          "text": [
            "                 title          author                genres  \\\n",
            "0           The Hobbit  J.R.R. Tolkien    Fantasy, Adventure   \n",
            "1  Pride and Prejudice     Jane Austen      Romance, Classic   \n",
            "2                 Dune   Frank Herbert     Sci-Fi, Political   \n",
            "3          The Martian       Andy Weir      Sci-Fi, Survival   \n",
            "4                 1984   George Orwell  Dystopian, Political   \n",
            "\n",
            "                         keywords  \\\n",
            "0         dragons, quest, journey   \n",
            "1        marriage, society, witty   \n",
            "2        desert, prophecy, empire   \n",
            "3         Mars, stranded, science   \n",
            "4  surveillance, control, freedom   \n",
            "\n",
            "                                         description  rating  \n",
            "0  A hobbit embarks on a dangerous adventure with...       5  \n",
            "1  A love story in 19th-century England exploring...       4  \n",
            "2  A noble family gets caught in a galactic battl...       5  \n",
            "3  An astronaut is stranded on Mars and uses scie...       4  \n",
            "4  A bleak future where a totalitarian regime mon...       3  \n"
          ]
        }
      ]
    },
    {
      "cell_type": "code",
      "source": [
        "print(df.info())\n",
        "print(df.describe())"
      ],
      "metadata": {
        "colab": {
          "base_uri": "https://localhost:8080/"
        },
        "id": "B9Z4j0lN-8ru",
        "outputId": "39c2c26c-9734-4957-badd-150944dcf69a"
      },
      "execution_count": null,
      "outputs": [
        {
          "output_type": "stream",
          "name": "stdout",
          "text": [
            "<class 'pandas.core.frame.DataFrame'>\n",
            "RangeIndex: 10 entries, 0 to 9\n",
            "Data columns (total 9 columns):\n",
            " #   Column                       Non-Null Count  Dtype \n",
            "---  ------                       --------------  ----- \n",
            " 0   title                        10 non-null     object\n",
            " 1   author                       10 non-null     object\n",
            " 2   genres                       10 non-null     object\n",
            " 3   keywords                     10 non-null     object\n",
            " 4   description                  10 non-null     object\n",
            " 5   rating                       10 non-null     int64 \n",
            " 6   combined_features            10 non-null     object\n",
            " 7   combined_features_weighted1  10 non-null     object\n",
            " 8   combined_features_weighted2  10 non-null     object\n",
            "dtypes: int64(1), object(8)\n",
            "memory usage: 852.0+ bytes\n",
            "None\n",
            "          rating\n",
            "count  10.000000\n",
            "mean    4.100000\n",
            "std     0.737865\n",
            "min     3.000000\n",
            "25%     4.000000\n",
            "50%     4.000000\n",
            "75%     4.750000\n",
            "max     5.000000\n"
          ]
        }
      ]
    },
    {
      "cell_type": "code",
      "source": [
        "df.isnull().sum()\n",
        "# df_cleaned = df.dropna()\n",
        "\n",
        "# print(\"\\nDataFrame after removing null values:\")\n",
        "# print(df_cleaned.head())\n",
        "# print(df_cleaned.info())\n",
        "# print(df_cleaned.describe())"
      ],
      "metadata": {
        "colab": {
          "base_uri": "https://localhost:8080/",
          "height": 272
        },
        "id": "gftEOko1AVPX",
        "outputId": "f691cebd-f39c-4e3e-dccf-682c6800e65a"
      },
      "execution_count": null,
      "outputs": [
        {
          "output_type": "execute_result",
          "data": {
            "text/plain": [
              "title          0\n",
              "author         0\n",
              "genres         0\n",
              "keywords       0\n",
              "description    0\n",
              "rating         0\n",
              "dtype: int64"
            ],
            "text/html": [
              "<div>\n",
              "<style scoped>\n",
              "    .dataframe tbody tr th:only-of-type {\n",
              "        vertical-align: middle;\n",
              "    }\n",
              "\n",
              "    .dataframe tbody tr th {\n",
              "        vertical-align: top;\n",
              "    }\n",
              "\n",
              "    .dataframe thead th {\n",
              "        text-align: right;\n",
              "    }\n",
              "</style>\n",
              "<table border=\"1\" class=\"dataframe\">\n",
              "  <thead>\n",
              "    <tr style=\"text-align: right;\">\n",
              "      <th></th>\n",
              "      <th>0</th>\n",
              "    </tr>\n",
              "  </thead>\n",
              "  <tbody>\n",
              "    <tr>\n",
              "      <th>title</th>\n",
              "      <td>0</td>\n",
              "    </tr>\n",
              "    <tr>\n",
              "      <th>author</th>\n",
              "      <td>0</td>\n",
              "    </tr>\n",
              "    <tr>\n",
              "      <th>genres</th>\n",
              "      <td>0</td>\n",
              "    </tr>\n",
              "    <tr>\n",
              "      <th>keywords</th>\n",
              "      <td>0</td>\n",
              "    </tr>\n",
              "    <tr>\n",
              "      <th>description</th>\n",
              "      <td>0</td>\n",
              "    </tr>\n",
              "    <tr>\n",
              "      <th>rating</th>\n",
              "      <td>0</td>\n",
              "    </tr>\n",
              "  </tbody>\n",
              "</table>\n",
              "</div><br><label><b>dtype:</b> int64</label>"
            ]
          },
          "metadata": {},
          "execution_count": 3
        }
      ]
    },
    {
      "cell_type": "code",
      "source": [
        "df['combined_features'] = (\n",
        "    df['genres'].apply(lambda x: ' '.join(x) if isinstance(x, list) else str(x))+ ' ' +\n",
        "    df['keywords'].apply(lambda x: ' '.join(x) if isinstance(x,list) else str(x)) + '' +\n",
        "    df['description'].fillna(''))\n",
        "print(df['combined_features'].head())"
      ],
      "metadata": {
        "colab": {
          "base_uri": "https://localhost:8080/"
        },
        "id": "8HIGEkI9Awzq",
        "outputId": "bc65ee90-c60f-4025-cdf6-0ae48822c443"
      },
      "execution_count": null,
      "outputs": [
        {
          "output_type": "stream",
          "name": "stdout",
          "text": [
            "0    Fantasy, Adventure dragons, quest, journeyA ho...\n",
            "1    Romance, Classic marriage, society, wittyA lov...\n",
            "2    Sci-Fi, Political desert, prophecy, empireA no...\n",
            "3    Sci-Fi, Survival Mars, stranded, scienceAn ast...\n",
            "4    Dystopian, Political surveillance, control, fr...\n",
            "Name: combined_features, dtype: object\n"
          ]
        }
      ]
    },
    {
      "cell_type": "code",
      "source": [
        "from sklearn.feature_extraction.text import TfidfVectorizer\n",
        "\n",
        "vectorizer = TfidfVectorizer(stop_words='english')\n",
        "tfidf_matrix = vectorizer.fit_transform(df['combined_features'])\n",
        "\n",
        "\n",
        "tfidf_matrix.shape\n",
        "vectorizer.get_feature_names_out()\n"
      ],
      "metadata": {
        "colab": {
          "base_uri": "https://localhost:8080/"
        },
        "id": "TOHCWvR8C0qA",
        "outputId": "ebe5b2c8-141b-475a-8ac3-4ac40ee54bb6"
      },
      "execution_count": null,
      "outputs": [
        {
          "output_type": "execute_result",
          "data": {
            "text/plain": [
              "array(['19th', 'adventure', 'age', 'american', 'astronaut', 'attends',\n",
              "       'battle', 'bleak', 'boy', 'caught', 'century', 'citizen', 'class',\n",
              "       'classic', 'coming', 'control', 'dangerous', 'desert', 'destiny',\n",
              "       'discover', 'discovers', 'dragons', 'dreams', 'dwarves',\n",
              "       'dynamics', 'dystopian', 'embarks', 'empirea', 'england',\n",
              "       'exploring', 'faces', 'family', 'fantasy', 'fi', 'fights',\n",
              "       'freedoma', 'friendshipa', 'future', 'galactic', 'gamea', 'gets',\n",
              "       'girl', 'goes', 'hobbit', 'injustice', 'innocencea', 'journey',\n",
              "       'journeya', 'justice', 'legend', 'love', 'magic', 'magical',\n",
              "       'marriage', 'mars', 'monitors', 'murder', 'mystery', 'noble',\n",
              "       'personal', 'philosophy', 'planet', 'political', 'powerful',\n",
              "       'prophecy', 'psychological', 'quest', 'racial', 'racism',\n",
              "       'rebellion', 'reclaim', 'refuses', 'regime', 'romance', 'school',\n",
              "       'sci', 'science', 'sciencean', 'shepherd', 'silence', 'social',\n",
              "       'society', 'south', 'speak', 'story', 'stranded', 'surveillance',\n",
              "       'survival', 'survive', 'teenager', 'televised', 'therapist',\n",
              "       'therapya', 'thriller', 'totalitarian', 'treasure', 'tries',\n",
              "       'unravel', 'uses', 'wittya', 'wizard', 'woman', 'world', 'ya',\n",
              "       'young'], dtype=object)"
            ]
          },
          "metadata": {},
          "execution_count": 5
        }
      ]
    },
    {
      "cell_type": "code",
      "source": [
        "from sklearn.metrics.pairwise import cosine_similarity\n",
        "\n",
        "cosine_sim = cosine_similarity(tfidf_matrix, tfidf_matrix)\n",
        "cosine_sim"
      ],
      "metadata": {
        "colab": {
          "base_uri": "https://localhost:8080/"
        },
        "id": "OHqYuRb5EMRU",
        "outputId": "bdb5383b-910b-4bda-9e33-c3d86e50b772"
      },
      "execution_count": null,
      "outputs": [
        {
          "output_type": "execute_result",
          "data": {
            "text/plain": [
              "array([[1.        , 0.        , 0.        , 0.        , 0.        ,\n",
              "        0.05832334, 0.        , 0.19098788, 0.        , 0.        ],\n",
              "       [0.        , 1.        , 0.        , 0.        , 0.        ,\n",
              "        0.        , 0.05469193, 0.        , 0.        , 0.        ],\n",
              "       [0.        , 0.        , 1.        , 0.09395813, 0.05609189,\n",
              "        0.        , 0.        , 0.        , 0.        , 0.05281596],\n",
              "       [0.        , 0.        , 0.09395813, 1.        , 0.        ,\n",
              "        0.        , 0.        , 0.        , 0.        , 0.10912123],\n",
              "       [0.        , 0.        , 0.05609189, 0.        , 1.        ,\n",
              "        0.        , 0.        , 0.        , 0.        , 0.13028817],\n",
              "       [0.05832334, 0.        , 0.        , 0.        , 0.        ,\n",
              "        1.        , 0.        , 0.        , 0.        , 0.05968055],\n",
              "       [0.        , 0.05469193, 0.        , 0.        , 0.        ,\n",
              "        0.        , 1.        , 0.        , 0.        , 0.        ],\n",
              "       [0.19098788, 0.        , 0.        , 0.        , 0.        ,\n",
              "        0.        , 0.        , 1.        , 0.        , 0.        ],\n",
              "       [0.        , 0.        , 0.        , 0.        , 0.        ,\n",
              "        0.        , 0.        , 0.        , 1.        , 0.        ],\n",
              "       [0.        , 0.        , 0.05281596, 0.10912123, 0.13028817,\n",
              "        0.05968055, 0.        , 0.        , 0.        , 1.        ]])"
            ]
          },
          "metadata": {},
          "execution_count": 6
        }
      ]
    },
    {
      "cell_type": "code",
      "source": [
        "def get_book_recommendations(title, top_n):\n",
        "  idx = df[df['title'] == title].index.item()\n",
        "  sim_scores = list(enumerate(cosine_sim[idx]))\n",
        "  sim_scores = sorted(sim_scores, key=lambda x: x[1], reverse=True)\n",
        "  sim_scores = sim_scores[1:top_n+1]\n",
        "  book_indices = [i[0] for i in sim_scores]\n",
        "\n",
        "  return df['title'].iloc[book_indices]\n",
        "\n",
        "print(get_book_recommendations('Dune',5))"
      ],
      "metadata": {
        "colab": {
          "base_uri": "https://localhost:8080/"
        },
        "id": "RHY13KPhJOhc",
        "outputId": "2f321da4-ed0d-4cb9-c30f-be5d1627287f"
      },
      "execution_count": null,
      "outputs": [
        {
          "output_type": "stream",
          "name": "stdout",
          "text": [
            "3            The Martian\n",
            "4                   1984\n",
            "9       The Hunger Games\n",
            "0             The Hobbit\n",
            "1    Pride and Prejudice\n",
            "Name: title, dtype: object\n"
          ]
        }
      ]
    },
    {
      "cell_type": "code",
      "source": [
        "from sklearn.metrics.pairwise import linear_kernel\n",
        "\n",
        "def get_book_recommendations_genre(genre, top_n):\n",
        "  #first we need to convert the genre into a vector\n",
        "  genre_vector = vectorizer.transform([genre])\n",
        "\n",
        "  #we will then find the similarity between the genre vector and book vectors.\n",
        "  #we will be using linear kernel which find the do product between GV and BV\n",
        "  # we could had used cosine sim but linear kernel is faster and lighter\n",
        "  genre_sim_scores = linear_kernel(genre_vector, tfidf_matrix).flatten()\n",
        "\n",
        "  top_n_recom_index = genre_sim_scores.argsort()[-top_n:][::-1]\n",
        "\n",
        "  return df['title'].iloc[top_n_recom_index]\n",
        "\n",
        "genre_vector = get_book_recommendations_genre('Sci fi',5)\n",
        "print(genre_vector)"
      ],
      "metadata": {
        "colab": {
          "base_uri": "https://localhost:8080/"
        },
        "id": "KMibG1qrkYeL",
        "outputId": "4bf69f5a-cd12-4e6c-f1e5-eb441d2a4b77"
      },
      "execution_count": null,
      "outputs": [
        {
          "output_type": "stream",
          "name": "stdout",
          "text": [
            "3           The Martian\n",
            "2                  Dune\n",
            "8    The Silent Patient\n",
            "9      The Hunger Games\n",
            "7         The Alchemist\n",
            "Name: title, dtype: object\n"
          ]
        }
      ]
    },
    {
      "cell_type": "code",
      "source": [
        "import numpy as np\n",
        "from sklearn.preprocessing import MinMaxScaler\n",
        "from scipy.sparse import hstack, csr_matrix\n",
        "\n",
        "scaler = MinMaxScaler()\n",
        "ratings_normalised = scaler.fit_transform(df[['rating']])\n",
        "\n",
        "ratings_weighted = ratings_normalised * 100\n",
        "\n",
        "# Combine tfidf matrix with ratings as an extra feature\n",
        "tfidf_with_ratings = hstack([tfidf_matrix, csr_matrix(ratings_weighted)])\n"
      ],
      "metadata": {
        "id": "4FUeYD-8o6wG"
      },
      "execution_count": null,
      "outputs": []
    },
    {
      "cell_type": "code",
      "source": [
        "def get_book_recommendations_with_genre_ratings(genre, top_n):\n",
        "    genre_vec = vectorizer.transform([genre])\n",
        "    # Append zero rating for the genre query vector\n",
        "    # Create sparse matrix for rating feature of the query vector (0 as neutral)\n",
        "    rating_vec = csr_matrix(np.array([[0]]))  # shape (1,1)\n",
        "\n",
        "    # Append rating feature to query vector\n",
        "    genre_vec_with_rating = hstack([genre_vec, rating_vec])\n",
        "\n",
        "    similarities = linear_kernel(genre_vec_with_rating, tfidf_with_ratings).flatten()\n",
        "    top_indices = similarities.argsort()[-top_n:][::-1]\n",
        "    return df.iloc[top_indices][['title', 'rating']]\n",
        "\n",
        "print(get_book_recommendations_with_genre_ratings('Sci fi',5))"
      ],
      "metadata": {
        "colab": {
          "base_uri": "https://localhost:8080/"
        },
        "id": "vtAF5AE0qD7W",
        "outputId": "8a4a222a-f0b9-4f69-f842-7fc54bb90735"
      },
      "execution_count": null,
      "outputs": [
        {
          "output_type": "stream",
          "name": "stdout",
          "text": [
            "                title  rating\n",
            "3         The Martian       4\n",
            "2                Dune       5\n",
            "8  The Silent Patient       3\n",
            "9    The Hunger Games       4\n",
            "7       The Alchemist       4\n"
          ]
        }
      ]
    },
    {
      "cell_type": "markdown",
      "source": [
        "## Building Real Recommendation System"
      ],
      "metadata": {
        "id": "HQNMwEYawa22"
      }
    },
    {
      "cell_type": "code",
      "source": [
        "import numpy as np\n",
        "import pandas as pd"
      ],
      "metadata": {
        "id": "NcUL_3eRwfRi"
      },
      "execution_count": null,
      "outputs": []
    },
    {
      "cell_type": "markdown",
      "source": [
        "### Fetch books from Goodreads"
      ],
      "metadata": {
        "id": "erk2ZQ7lIwLq"
      }
    },
    {
      "cell_type": "code",
      "source": [
        "goodreads_file_path = 'goodreads_library_export.csv'\n",
        "\n",
        "df_goodreads = pd.read_csv(goodreads_file_path)\n",
        "\n",
        "# print(df_goodreads.head())\n",
        "print(df_goodreads.columns)\n",
        "# print(df_goodreads.info())"
      ],
      "metadata": {
        "colab": {
          "base_uri": "https://localhost:8080/"
        },
        "id": "p4UW34QswlQL",
        "outputId": "9a583408-ac7c-428d-840f-539af922c256"
      },
      "execution_count": null,
      "outputs": [
        {
          "output_type": "stream",
          "name": "stdout",
          "text": [
            "Index(['Book Id', 'Title', 'Author', 'Author l-f', 'Additional Authors',\n",
            "       'ISBN', 'ISBN13', 'My Rating', 'Average Rating', 'Publisher', 'Binding',\n",
            "       'Number of Pages', 'Year Published', 'Original Publication Year',\n",
            "       'Date Read', 'Date Added', 'Bookshelves', 'Bookshelves with positions',\n",
            "       'Exclusive Shelf', 'My Review', 'Spoiler', 'Private Notes',\n",
            "       'Read Count', 'Owned Copies'],\n",
            "      dtype='object')\n"
          ]
        }
      ]
    },
    {
      "cell_type": "code",
      "source": [
        "df_goodreads.isnull().sum()"
      ],
      "metadata": {
        "colab": {
          "base_uri": "https://localhost:8080/",
          "height": 836
        },
        "collapsed": true,
        "id": "cQuu09-bxYA3",
        "outputId": "24a885c0-a8f0-4983-84a9-dac9a16d1392"
      },
      "execution_count": null,
      "outputs": [
        {
          "output_type": "execute_result",
          "data": {
            "text/plain": [
              "Book Id                         0\n",
              "Title                           0\n",
              "Author                          0\n",
              "Author l-f                      0\n",
              "Additional Authors            584\n",
              "ISBN                            0\n",
              "ISBN13                          0\n",
              "My Rating                       0\n",
              "Average Rating                  0\n",
              "Publisher                      26\n",
              "Binding                         4\n",
              "Number of Pages                10\n",
              "Year Published                 10\n",
              "Original Publication Year      15\n",
              "Date Read                     363\n",
              "Date Added                      0\n",
              "Bookshelves                   332\n",
              "Bookshelves with positions    332\n",
              "Exclusive Shelf                 0\n",
              "My Review                     630\n",
              "Spoiler                       672\n",
              "Private Notes                 672\n",
              "Read Count                      0\n",
              "Owned Copies                    0\n",
              "dtype: int64"
            ],
            "text/html": [
              "<div>\n",
              "<style scoped>\n",
              "    .dataframe tbody tr th:only-of-type {\n",
              "        vertical-align: middle;\n",
              "    }\n",
              "\n",
              "    .dataframe tbody tr th {\n",
              "        vertical-align: top;\n",
              "    }\n",
              "\n",
              "    .dataframe thead th {\n",
              "        text-align: right;\n",
              "    }\n",
              "</style>\n",
              "<table border=\"1\" class=\"dataframe\">\n",
              "  <thead>\n",
              "    <tr style=\"text-align: right;\">\n",
              "      <th></th>\n",
              "      <th>0</th>\n",
              "    </tr>\n",
              "  </thead>\n",
              "  <tbody>\n",
              "    <tr>\n",
              "      <th>Book Id</th>\n",
              "      <td>0</td>\n",
              "    </tr>\n",
              "    <tr>\n",
              "      <th>Title</th>\n",
              "      <td>0</td>\n",
              "    </tr>\n",
              "    <tr>\n",
              "      <th>Author</th>\n",
              "      <td>0</td>\n",
              "    </tr>\n",
              "    <tr>\n",
              "      <th>Author l-f</th>\n",
              "      <td>0</td>\n",
              "    </tr>\n",
              "    <tr>\n",
              "      <th>Additional Authors</th>\n",
              "      <td>584</td>\n",
              "    </tr>\n",
              "    <tr>\n",
              "      <th>ISBN</th>\n",
              "      <td>0</td>\n",
              "    </tr>\n",
              "    <tr>\n",
              "      <th>ISBN13</th>\n",
              "      <td>0</td>\n",
              "    </tr>\n",
              "    <tr>\n",
              "      <th>My Rating</th>\n",
              "      <td>0</td>\n",
              "    </tr>\n",
              "    <tr>\n",
              "      <th>Average Rating</th>\n",
              "      <td>0</td>\n",
              "    </tr>\n",
              "    <tr>\n",
              "      <th>Publisher</th>\n",
              "      <td>26</td>\n",
              "    </tr>\n",
              "    <tr>\n",
              "      <th>Binding</th>\n",
              "      <td>4</td>\n",
              "    </tr>\n",
              "    <tr>\n",
              "      <th>Number of Pages</th>\n",
              "      <td>10</td>\n",
              "    </tr>\n",
              "    <tr>\n",
              "      <th>Year Published</th>\n",
              "      <td>10</td>\n",
              "    </tr>\n",
              "    <tr>\n",
              "      <th>Original Publication Year</th>\n",
              "      <td>15</td>\n",
              "    </tr>\n",
              "    <tr>\n",
              "      <th>Date Read</th>\n",
              "      <td>363</td>\n",
              "    </tr>\n",
              "    <tr>\n",
              "      <th>Date Added</th>\n",
              "      <td>0</td>\n",
              "    </tr>\n",
              "    <tr>\n",
              "      <th>Bookshelves</th>\n",
              "      <td>332</td>\n",
              "    </tr>\n",
              "    <tr>\n",
              "      <th>Bookshelves with positions</th>\n",
              "      <td>332</td>\n",
              "    </tr>\n",
              "    <tr>\n",
              "      <th>Exclusive Shelf</th>\n",
              "      <td>0</td>\n",
              "    </tr>\n",
              "    <tr>\n",
              "      <th>My Review</th>\n",
              "      <td>630</td>\n",
              "    </tr>\n",
              "    <tr>\n",
              "      <th>Spoiler</th>\n",
              "      <td>672</td>\n",
              "    </tr>\n",
              "    <tr>\n",
              "      <th>Private Notes</th>\n",
              "      <td>672</td>\n",
              "    </tr>\n",
              "    <tr>\n",
              "      <th>Read Count</th>\n",
              "      <td>0</td>\n",
              "    </tr>\n",
              "    <tr>\n",
              "      <th>Owned Copies</th>\n",
              "      <td>0</td>\n",
              "    </tr>\n",
              "  </tbody>\n",
              "</table>\n",
              "</div><br><label><b>dtype:</b> int64</label>"
            ]
          },
          "metadata": {},
          "execution_count": 68
        }
      ]
    },
    {
      "cell_type": "markdown",
      "source": [
        "### Fetch books from Google API"
      ],
      "metadata": {
        "id": "JyiVB8t2IpnB"
      }
    },
    {
      "cell_type": "code",
      "source": [
        "import requests\n",
        "import time\n",
        "\n",
        "def fetch_many_books(query='novel', total=500):\n",
        "    books = []\n",
        "    max_per_request = 40\n",
        "\n",
        "    for start in range(0, total, max_per_request):\n",
        "        params = {\n",
        "            'q': query,\n",
        "            'startIndex': start,\n",
        "            'maxResults': max_per_request,\n",
        "            'orderBy': 'relevance',\n",
        "            'printType': 'books'\n",
        "        }\n",
        "        response = requests.get(\"https://www.googleapis.com/books/v1/volumes\", params=params)\n",
        "\n",
        "        if response.status_code != 200:\n",
        "            print(f\"Failed at index {start}: {response.status_code}\")\n",
        "            break\n",
        "\n",
        "        data = response.json()\n",
        "        items = data.get('items', [])\n",
        "        if not items:\n",
        "            break\n",
        "\n",
        "        for item in items:\n",
        "            info = item.get('volumeInfo', {})\n",
        "            books.append({\n",
        "                'title': info.get('title', 'Unknown'),\n",
        "                'authors': ', '.join(info.get('authors', [])),\n",
        "                'description': info.get('description', ''),\n",
        "                'average_rating': info.get('averageRating', 0),\n",
        "                'categories': ', '.join(info.get('categories', [])) if 'categories' in info else 'Unknown'\n",
        "            })\n",
        "\n",
        "        time.sleep(0.2)\n",
        "\n",
        "    return books\n",
        "\n",
        "# Example: Fetch top 120 books\n",
        "df_books = pd.DataFrame(fetch_many_books(query='novel'))\n",
        "print(f\"Fetched {len(df_books)} books.\")"
      ],
      "metadata": {
        "id": "a-p0GRsWxjiP",
        "colab": {
          "base_uri": "https://localhost:8080/"
        },
        "outputId": "413c9e0d-bec3-4f68-8581-00bd161b48b7"
      },
      "execution_count": null,
      "outputs": [
        {
          "output_type": "stream",
          "name": "stdout",
          "text": [
            "Fetched 320 books.\n"
          ]
        }
      ]
    },
    {
      "cell_type": "code",
      "source": [
        "import requests\n",
        "\n",
        "def search_books_openlibrary(query, limit):\n",
        "    url = \"https://openlibrary.org/search.json\"\n",
        "    params = {\n",
        "        'q': query,\n",
        "        'limit': limit\n",
        "    }\n",
        "    response = requests.get(url, params=params)\n",
        "    data = response.json()\n",
        "\n",
        "    books = []\n",
        "    for doc in data.get('docs', []):\n",
        "        # Title\n",
        "        title = doc.get('title', 'Unknown')\n",
        "\n",
        "        # Authors - a list of author names\n",
        "        authors_list = doc.get('author_name', [])\n",
        "        authors = ', '.join(authors_list) if authors_list else 'Unknown'\n",
        "\n",
        "        # Description - Open Library Search API does NOT provide description here, need another call per work or edition\n",
        "        description = ''  # Placeholder, could fetch separately if needed\n",
        "\n",
        "        # Average rating - not available in Open Library API (no ratings)\n",
        "        average_rating = 0  # Placeholder or None\n",
        "\n",
        "        # Categories/subjects - subjects field can be used here\n",
        "        categories_list = doc.get('subject', [])\n",
        "        categories = ', '.join(categories_list) if categories_list else 'Unknown'\n",
        "\n",
        "        books.append({\n",
        "            'title': title,\n",
        "            'authors': authors,\n",
        "            'description': description,\n",
        "            'average_rating': average_rating,\n",
        "            'categories': categories\n",
        "        })\n",
        "\n",
        "    return books\n",
        "\n",
        "# Example usage:\n",
        "df_books = pd.DataFrame(search_books_openlibrary(\"mystery\", limit=500))\n",
        "\n",
        "print(len(df_books), df_books.head())"
      ],
      "metadata": {
        "colab": {
          "base_uri": "https://localhost:8080/"
        },
        "id": "P6hIMf_SwDN1",
        "outputId": "8ff709d4-18ff-498a-dd73-c476d11cc263"
      },
      "execution_count": null,
      "outputs": [
        {
          "output_type": "stream",
          "name": "stdout",
          "text": [
            "500                              title                                  authors  \\\n",
            "0              A Caribbean Mystery                Agatha Christie, Christie   \n",
            "1  The Mysterious Affair at Styles  Agatha Christie, Aric Cushing, Bookstar   \n",
            "2    The Mystery of the Blue Train                          Agatha Christie   \n",
            "3            Murder in Mesopotamia                          Agatha Christie   \n",
            "4                Death on the Nile                          Agatha Christie   \n",
            "\n",
            "  description  average_rating categories  \n",
            "0                           0    Unknown  \n",
            "1                           0    Unknown  \n",
            "2                           0    Unknown  \n",
            "3                           0    Unknown  \n",
            "4                           0    Unknown  \n"
          ]
        }
      ]
    },
    {
      "cell_type": "markdown",
      "source": [
        "### Compare the results"
      ],
      "metadata": {
        "id": "vzL5T9F6I1vC"
      }
    },
    {
      "cell_type": "code",
      "source": [
        "print('goodreads column: ', df_goodreads.columns)\n",
        "print('google api books:', df_books.columns)"
      ],
      "metadata": {
        "colab": {
          "base_uri": "https://localhost:8080/"
        },
        "id": "4cKcQKAnIok_",
        "outputId": "15c2b6e6-2213-4003-8cbb-6a3f20ad4538"
      },
      "execution_count": null,
      "outputs": [
        {
          "output_type": "stream",
          "name": "stdout",
          "text": [
            "goodreads column:  Index(['Book Id', 'title', 'Author', 'Author l-f', 'Additional Authors',\n",
            "       'ISBN', 'ISBN13', 'my_rating', 'Average Rating', 'Publisher', 'Binding',\n",
            "       'Number of Pages', 'Year Published', 'Original Publication Year',\n",
            "       'Date Read', 'Date Added', 'Bookshelves', 'Bookshelves with positions',\n",
            "       'Exclusive Shelf', 'My Review', 'Spoiler', 'Private Notes',\n",
            "       'Read Count', 'Owned Copies'],\n",
            "      dtype='object')\n",
            "google api books: Index(['title', 'authors', 'description', 'average_rating', 'categories'], dtype='object')\n"
          ]
        }
      ]
    },
    {
      "cell_type": "markdown",
      "source": [
        "### Preprocess datasets"
      ],
      "metadata": {
        "id": "4GgQNPsiLqRO"
      }
    },
    {
      "cell_type": "code",
      "source": [
        "df_goodreads = df_goodreads.rename(columns={'Title': 'title', 'My Rating': 'my_rating'})\n",
        "\n",
        "df_goodreads['title'] = df_goodreads['title'].str.lower().str.strip()\n",
        "df_books['title'] = df_books['title'].str.lower().str.strip()"
      ],
      "metadata": {
        "id": "0XNx2-QlLo_1"
      },
      "execution_count": null,
      "outputs": []
    },
    {
      "cell_type": "code",
      "source": [
        "import string\n",
        "import re\n",
        "\n",
        "def clean_title(title):\n",
        "    if isinstance(title, str):\n",
        "        # Remove parentheses and their content\n",
        "        title = re.sub(r'\\s*\\([^)]*\\)', '', title)\n",
        "        # Lowercase and strip whitespace\n",
        "        title = title.lower().strip()\n",
        "        # Remove punctuation\n",
        "        title = title.translate(str.maketrans('', '', string.punctuation))\n",
        "        return title\n",
        "    return title\n",
        "\n",
        "df_goodreads['title'] = df_goodreads['title'].apply(clean_title)\n",
        "df_books['title'] = df_books['title'].apply(clean_title)\n"
      ],
      "metadata": {
        "id": "G4lPsAR6y21H"
      },
      "execution_count": null,
      "outputs": []
    },
    {
      "cell_type": "code",
      "source": [
        "print(df_goodreads.columns)\n",
        "print(df_books.columns)"
      ],
      "metadata": {
        "colab": {
          "base_uri": "https://localhost:8080/"
        },
        "id": "e_1p5B443nvm",
        "outputId": "1a00a49a-f2f1-4ff0-8716-4cde6e19e210"
      },
      "execution_count": null,
      "outputs": [
        {
          "output_type": "stream",
          "name": "stdout",
          "text": [
            "Index(['Book Id', 'title', 'Author', 'Author l-f', 'Additional Authors',\n",
            "       'ISBN', 'ISBN13', 'my_rating', 'Average Rating', 'Publisher', 'Binding',\n",
            "       'Number of Pages', 'Year Published', 'Original Publication Year',\n",
            "       'Date Read', 'Date Added', 'Bookshelves', 'Bookshelves with positions',\n",
            "       'Exclusive Shelf', 'My Review', 'Spoiler', 'Private Notes',\n",
            "       'Read Count', 'Owned Copies', 'matches'],\n",
            "      dtype='object')\n",
            "Index(['title', 'authors', 'description', 'average_rating', 'categories'], dtype='object')\n"
          ]
        }
      ]
    },
    {
      "cell_type": "code",
      "source": [
        "import pandas as pd\n",
        "from fuzzywuzzy import process, fuzz\n",
        "\n",
        "# --- Sample setup (you can skip this if df_goodreads and df_books already exist) ---\n",
        "# Just a test example to prove it works\n",
        "# df_goodreads = pd.DataFrame({'title': ['The Hobbit', 'Harry Potter', 'Pride and Prejudice']})\n",
        "# df_books = pd.DataFrame({'title': ['harry potter and the philosopher\\'s stone', 'the hobbit', 'pride & prejudice']})\n",
        "\n",
        "# --- Make sure both dataframes have the 'title' column ---\n",
        "if 'title' not in df_goodreads.columns or 'title' not in df_books.columns:\n",
        "    raise ValueError(\"Both df_goodreads and df_books must have a 'title' column.\")\n",
        "\n",
        "# --- Lowercase and clean titles ---\n",
        "df_goodreads = df_goodreads.copy()\n",
        "df_books = df_books.copy()\n",
        "\n",
        "df_goodreads['title'] = df_goodreads['title'].astype(str).str.lower().str.strip()\n",
        "df_books['title'] = df_books['title'].astype(str).str.lower().str.strip()\n",
        "\n",
        "# --- Apply fuzzy matching ---\n",
        "def get_best_match(title, choices, threshold=75):\n",
        "    match = process.extractOne(title, choices, scorer=fuzz.ratio)\n",
        "    if match and match[1] >= threshold:\n",
        "        return match[0]  # return matched title from df_books\n",
        "    return None\n",
        "\n",
        "# Get all book titles from df_books\n",
        "book_titles = df_books['title'].dropna().unique().tolist()\n",
        "\n",
        "# Match each goodreads title to best matching book title\n",
        "df_goodreads['matched_title'] = df_goodreads['title'].apply(lambda x: get_best_match(x, book_titles))\n",
        "\n",
        "# --- Merge matched results ---\n",
        "df_global = pd.merge(\n",
        "    df_goodreads,\n",
        "    df_books,\n",
        "    left_on='matched_title',\n",
        "    right_on='title',\n",
        "    how='outer',\n",
        "    suffixes=('_goodreads', '_books')\n",
        ")\n",
        "\n",
        "# --- Prefer Goodreads title where available ---\n",
        "df_global['title'] = df_global['title_goodreads'].combine_first(df_global['title_books'])\n",
        "\n",
        "# --- Drop intermediate columns ---\n",
        "df_global.drop(columns=['title_goodreads', 'title_books', 'matched_title'], inplace=True)\n",
        "\n",
        "# --- Optional: drop duplicates ---\n",
        "df_global.drop_duplicates(subset=['title'], inplace=True)\n",
        "\n",
        "# --- Result ---\n",
        "print(df_global.head())\n",
        "print(df_global.info())\n"
      ],
      "metadata": {
        "colab": {
          "base_uri": "https://localhost:8080/"
        },
        "id": "DRdVEjG513OH",
        "outputId": "8961e6b1-5c71-4f98-9b92-e9ac823d9269"
      },
      "execution_count": null,
      "outputs": [
        {
          "output_type": "stream",
          "name": "stdout",
          "text": [
            "   Book Id Author Author l-f Additional Authors ISBN ISBN13  my_rating  \\\n",
            "0      NaN    NaN        NaN                NaN  NaN    NaN        NaN   \n",
            "1      NaN    NaN        NaN                NaN  NaN    NaN        NaN   \n",
            "2      NaN    NaN        NaN                NaN  NaN    NaN        NaN   \n",
            "3      NaN    NaN        NaN                NaN  NaN    NaN        NaN   \n",
            "4      NaN    NaN        NaN                NaN  NaN    NaN        NaN   \n",
            "\n",
            "   Average Rating Publisher Binding  ...  Private Notes  Read Count  \\\n",
            "0             NaN       NaN     NaN  ...            NaN         NaN   \n",
            "1             NaN       NaN     NaN  ...            NaN         NaN   \n",
            "2             NaN       NaN     NaN  ...            NaN         NaN   \n",
            "3             NaN       NaN     NaN  ...            NaN         NaN   \n",
            "4             NaN       NaN     NaN  ...            NaN         NaN   \n",
            "\n",
            "   Owned Copies matches match_score                        authors  \\\n",
            "0           NaN     NaN         NaN                           村上春樹   \n",
            "1           NaN     NaN         NaN                James Patterson   \n",
            "2           NaN     NaN         NaN  James Patterson, Andrew Gross   \n",
            "3           NaN     NaN         NaN  James Patterson, Andrew Gross   \n",
            "4           NaN     NaN         NaN                Agatha Christie   \n",
            "\n",
            "  description average_rating categories                title  \n",
            "0                        0.0    Unknown                 1q84  \n",
            "1                        0.0    Unknown           1st to die  \n",
            "2                        0.0    Unknown           2nd chance  \n",
            "3                        0.0    Unknown           3rd degree  \n",
            "4                        0.0    Unknown  450 from paddington  \n",
            "\n",
            "[5 rows x 30 columns]\n",
            "<class 'pandas.core.frame.DataFrame'>\n",
            "Index: 1154 entries, 0 to 1157\n",
            "Data columns (total 30 columns):\n",
            " #   Column                      Non-Null Count  Dtype  \n",
            "---  ------                      --------------  -----  \n",
            " 0   Book Id                     668 non-null    float64\n",
            " 1   Author                      668 non-null    object \n",
            " 2   Author l-f                  668 non-null    object \n",
            " 3   Additional Authors          88 non-null     object \n",
            " 4   ISBN                        668 non-null    object \n",
            " 5   ISBN13                      668 non-null    object \n",
            " 6   my_rating                   668 non-null    float64\n",
            " 7   Average Rating              668 non-null    float64\n",
            " 8   Publisher                   643 non-null    object \n",
            " 9   Binding                     664 non-null    object \n",
            " 10  Number of Pages             658 non-null    float64\n",
            " 11  Year Published              658 non-null    float64\n",
            " 12  Original Publication Year   653 non-null    float64\n",
            " 13  Date Read                   305 non-null    object \n",
            " 14  Date Added                  668 non-null    object \n",
            " 15  Bookshelves                 340 non-null    object \n",
            " 16  Bookshelves with positions  340 non-null    object \n",
            " 17  Exclusive Shelf             668 non-null    object \n",
            " 18  My Review                   41 non-null     object \n",
            " 19  Spoiler                     0 non-null      float64\n",
            " 20  Private Notes               0 non-null      float64\n",
            " 21  Read Count                  668 non-null    float64\n",
            " 22  Owned Copies                668 non-null    float64\n",
            " 23  matches                     668 non-null    object \n",
            " 24  match_score                 668 non-null    float64\n",
            " 25  authors                     501 non-null    object \n",
            " 26  description                 501 non-null    object \n",
            " 27  average_rating              501 non-null    float64\n",
            " 28  categories                  501 non-null    object \n",
            " 29  title                       1154 non-null   object \n",
            "dtypes: float64(12), object(18)\n",
            "memory usage: 279.5+ KB\n",
            "None\n"
          ]
        }
      ]
    },
    {
      "cell_type": "code",
      "source": [
        "# df_global = pd.merge(df_goodreads, df_books, on='title', how='outer')\n",
        "print(df_global.columns)"
      ],
      "metadata": {
        "id": "V2tZpKxdMT7O",
        "colab": {
          "base_uri": "https://localhost:8080/"
        },
        "outputId": "037dbb62-940e-4d53-f37d-d3e03ab3da78"
      },
      "execution_count": null,
      "outputs": [
        {
          "output_type": "stream",
          "name": "stdout",
          "text": [
            "Index(['Book Id', 'Author', 'Author l-f', 'Additional Authors', 'ISBN',\n",
            "       'ISBN13', 'my_rating', 'Average Rating', 'Publisher', 'Binding',\n",
            "       'Number of Pages', 'Year Published', 'Original Publication Year',\n",
            "       'Date Read', 'Date Added', 'Bookshelves', 'Bookshelves with positions',\n",
            "       'Exclusive Shelf', 'My Review', 'Spoiler', 'Private Notes',\n",
            "       'Read Count', 'Owned Copies', 'matches', 'match_score', 'authors',\n",
            "       'description', 'average_rating', 'categories', 'title'],\n",
            "      dtype='object')\n"
          ]
        }
      ]
    },
    {
      "cell_type": "code",
      "source": [
        "# Combine texts\n",
        "df_global['combined_text'] = (\n",
        "    df_global['title'].fillna('') + ' ' +\n",
        "    df_global['authors'].fillna('') + ' ' +\n",
        "    df_global['description'].fillna('') + ' ' +\n",
        "    df_global['categories'].fillna('') + ' ' +\n",
        "    df_global['My Review'].fillna('') + ' ' +\n",
        "    df_global['Bookshelves'].fillna('') + ' ' +\n",
        "    df_global['Publisher'].fillna('') + ' ' +\n",
        "    df_global['Year Published'].fillna('').astype(str)\n",
        ")\n",
        "\n",
        "print(df_global.head())"
      ],
      "metadata": {
        "colab": {
          "base_uri": "https://localhost:8080/"
        },
        "id": "ClyKGw5oT8tw",
        "outputId": "3159f859-3b3a-4425-aeb7-5a4c34e7ff97"
      },
      "execution_count": null,
      "outputs": [
        {
          "output_type": "stream",
          "name": "stdout",
          "text": [
            "   Book Id Author Author l-f Additional Authors ISBN ISBN13  my_rating  \\\n",
            "0      NaN    NaN        NaN                NaN  NaN    NaN        NaN   \n",
            "1      NaN    NaN        NaN                NaN  NaN    NaN        NaN   \n",
            "2      NaN    NaN        NaN                NaN  NaN    NaN        NaN   \n",
            "3      NaN    NaN        NaN                NaN  NaN    NaN        NaN   \n",
            "4      NaN    NaN        NaN                NaN  NaN    NaN        NaN   \n",
            "\n",
            "   Average Rating Publisher Binding  ...  Read Count  Owned Copies  matches  \\\n",
            "0             NaN       NaN     NaN  ...         NaN           NaN      NaN   \n",
            "1             NaN       NaN     NaN  ...         NaN           NaN      NaN   \n",
            "2             NaN       NaN     NaN  ...         NaN           NaN      NaN   \n",
            "3             NaN       NaN     NaN  ...         NaN           NaN      NaN   \n",
            "4             NaN       NaN     NaN  ...         NaN           NaN      NaN   \n",
            "\n",
            "  match_score                        authors description average_rating  \\\n",
            "0         NaN                           村上春樹                        0.0   \n",
            "1         NaN                James Patterson                        0.0   \n",
            "2         NaN  James Patterson, Andrew Gross                        0.0   \n",
            "3         NaN  James Patterson, Andrew Gross                        0.0   \n",
            "4         NaN                Agatha Christie                        0.0   \n",
            "\n",
            "  categories                title  \\\n",
            "0    Unknown                 1q84   \n",
            "1    Unknown           1st to die   \n",
            "2    Unknown           2nd chance   \n",
            "3    Unknown           3rd degree   \n",
            "4    Unknown  450 from paddington   \n",
            "\n",
            "                                       combined_text  \n",
            "0                             1q84 村上春樹  Unknown      \n",
            "1            1st to die James Patterson  Unknown      \n",
            "2  2nd chance James Patterson, Andrew Gross  Unkn...  \n",
            "3  3rd degree James Patterson, Andrew Gross  Unkn...  \n",
            "4   450 from paddington Agatha Christie  Unknown      \n",
            "\n",
            "[5 rows x 31 columns]\n"
          ]
        }
      ]
    },
    {
      "cell_type": "code",
      "source": [
        "# Scale the numerical ratings\n",
        "\n",
        "from sklearn.preprocessing import MinMaxScaler\n",
        "\n",
        "df_global[['my_rating', 'Average Rating', 'Number of Pages', 'Read Count']] = \\\n",
        "    df_global[['my_rating', 'Average Rating', 'Number of Pages', 'Read Count']].fillna(0)\n",
        "\n",
        "# Normalize numeric features between 0 and 1\n",
        "scaler = MinMaxScaler()\n",
        "numeric_features = df_global[['my_rating', 'Average Rating', 'Number of Pages', 'Read Count']]\n",
        "numeric_features_scaled = scaler.fit_transform(numeric_features)"
      ],
      "metadata": {
        "id": "QC4I8wGKWjbc"
      },
      "execution_count": null,
      "outputs": []
    },
    {
      "cell_type": "markdown",
      "source": [
        "### Vectorize textual Data"
      ],
      "metadata": {
        "id": "APTRCJq6XnhE"
      }
    },
    {
      "cell_type": "code",
      "source": [
        "from sklearn.feature_extraction.text import TfidfVectorizer\n",
        "\n",
        "vectorizer = TfidfVectorizer(stop_words='english')\n",
        "tfidf_matrix = vectorizer.fit_transform(df_global['combined_text'])"
      ],
      "metadata": {
        "id": "axCAgJNOXji0"
      },
      "execution_count": null,
      "outputs": []
    },
    {
      "cell_type": "markdown",
      "source": [
        "### Combine text and numerical data"
      ],
      "metadata": {
        "id": "ou2wAAweYCPn"
      }
    },
    {
      "cell_type": "code",
      "source": [
        "from scipy.sparse import hstack\n",
        "\n",
        "combined_features = hstack([tfidf_matrix, numeric_features_scaled]).tocsr()"
      ],
      "metadata": {
        "id": "ls82MoFVX_zl"
      },
      "execution_count": null,
      "outputs": []
    },
    {
      "cell_type": "code",
      "source": [
        "from sklearn.metrics.pairwise import cosine_similarity\n",
        "\n",
        "cosine_sim = cosine_similarity(combined_features, combined_features)"
      ],
      "metadata": {
        "id": "pU7pIYB6YQBe"
      },
      "execution_count": null,
      "outputs": []
    },
    {
      "cell_type": "code",
      "source": [
        "print(cosine_sim)"
      ],
      "metadata": {
        "colab": {
          "base_uri": "https://localhost:8080/"
        },
        "id": "xkjwY3EEYvMk",
        "outputId": "b61ee2d0-e588-4896-bb03-757e731b2bed"
      },
      "execution_count": null,
      "outputs": [
        {
          "output_type": "stream",
          "name": "stdout",
          "text": [
            "[[1.         0.02775842 0.02162331 ... 0.         0.         0.        ]\n",
            " [0.02775842 1.         0.24266653 ... 0.         0.         0.        ]\n",
            " [0.02162331 0.24266653 1.         ... 0.         0.         0.        ]\n",
            " ...\n",
            " [0.         0.         0.         ... 1.         0.43542354 0.42187474]\n",
            " [0.         0.         0.         ... 0.43542354 1.         0.43410072]\n",
            " [0.         0.         0.         ... 0.42187474 0.43410072 1.        ]]\n"
          ]
        }
      ]
    },
    {
      "cell_type": "code",
      "source": [
        "# Assume df_global has a column 'title' and 'Exclusive Shelf'\n",
        "\n",
        "# Step 1: Get all books you have on any shelf: 'read', 'to-read', 'currently-reading'\n",
        "my_shelves = ['read', 'to-read', 'currently-reading', 'best-of-best']\n",
        "my_books_df = df_global[df_global['Exclusive Shelf'].isin(my_shelves)]\n",
        "\n",
        "\n",
        "# Step 2: Reset df_global index so it aligns with combined_features matrix\n",
        "df_global = df_global.reset_index(drop=True)\n",
        "my_books = my_books.reset_index(drop=True)\n",
        "\n",
        "# Step 3: Compute similarity as before\n",
        "my_indices = my_books_df.index\n",
        "user_sim = cosine_similarity(combined_features[my_indices], combined_features)\n",
        "mean_sim = user_sim.mean(axis=0)\n",
        "\n",
        "# Sort indices by similarity (highest first)\n",
        "sorted_indices = np.argsort(mean_sim)[::-1]\n",
        "\n",
        "# Exclude already interacted books\n",
        "filtered_indices = [idx for idx in sorted_indices if df_global.at[idx, 'title'].lower() not in my_titles_set]\n",
        "\n",
        "# Shuffle the top similar ones to get variation\n",
        "np.random.seed()  # ensures different shuffle each time\n",
        "shuffled_indices = np.random.permutation(filtered_indices[:150])  # buffer top 150 to randomize\n",
        "\n",
        "# Select top N from shuffled\n",
        "final_recommendations = shuffled_indices[:50]\n",
        "\n",
        "\n",
        "# Step 5: Display recommended books\n",
        "recommended_books = df_global.loc[final_recommendations][['title', 'authors', 'Average Rating', 'categories', 'Exclusive Shelf']]\n",
        "print(recommended_books)"
      ],
      "metadata": {
        "colab": {
          "base_uri": "https://localhost:8080/"
        },
        "id": "Rag0fkFWuPmp",
        "outputId": "743e6afc-a865-4677-c887-fdce35b905e5"
      },
      "execution_count": null,
      "outputs": [
        {
          "output_type": "stream",
          "name": "stdout",
          "text": [
            "                                                 title  \\\n",
            "408                                  the pelican brief   \n",
            "98                                       endless night   \n",
            "455             the virgin suicides bloomsbury classic   \n",
            "272                        tales of terror and mystery   \n",
            "106                                   five little pigs   \n",
            "17                                a pocket full of rye   \n",
            "324                                    the dead secret   \n",
            "350                the house with a clock in its walls   \n",
            "212                            nightmares  dreamscapes   \n",
            "120                                          gone girl   \n",
            "349                        the house on the borderland   \n",
            "76                                          dead souls   \n",
            "397                      the mystery of the blue train   \n",
            "24                                         alias grace   \n",
            "211                                        night shift   \n",
            "142                       house of a thousand lanterns   \n",
            "245                                      roses are red   \n",
            "298                                         the broker   \n",
            "359                                  the king of torts   \n",
            "358                                 the king in yellow   \n",
            "104                                        firestarter   \n",
            "332                              the five red herrings   \n",
            "81                                     deception point   \n",
            "276                                    the after house   \n",
            "450                                   the time machine   \n",
            "488                 we have always lived in the castle   \n",
            "170                                 lets get invisible   \n",
            "173                                  lord edgware dies   \n",
            "313                                   the colorado kid   \n",
            "160                                    kill alex cross   \n",
            "131                                  heart of darkness   \n",
            "361                                     the last juror   \n",
            "347                        the house by the churchyard   \n",
            "178                                          mary mary   \n",
            "352                    the incredulity of father brown   \n",
            "97                    encyclopedia brown boy detective   \n",
            "466                                         third girl   \n",
            "295                             the book of the damned   \n",
            "101                                      fallen hearts   \n",
            "147                                il codice del drago   \n",
            "153                                            inferno   \n",
            "414                                      the rainmaker   \n",
            "368                                     the lost world   \n",
            "19                             a strange disappearance   \n",
            "444                                         the switch   \n",
            "443                    the surgeon jane rizzoli book 1   \n",
            "66                                       crooked house   \n",
            "354  the innocence of father brown father brown mys...   \n",
            "376                                  the maze of bones   \n",
            "290                                       the big four   \n",
            "\n",
            "                                               authors  Average Rating  \\\n",
            "408                                       John Grisham             0.0   \n",
            "98                                     Agatha Christie             0.0   \n",
            "455                    Jeffrey Eugenides, Nick Landrum             0.0   \n",
            "272                                 Arthur Conan Doyle             0.0   \n",
            "106                                    Agatha Christie             0.0   \n",
            "17                                     Agatha Christie             0.0   \n",
            "324                                     Wilkie Collins             0.0   \n",
            "350                                      John Bellairs             0.0   \n",
            "212                                       Stephen King             0.0   \n",
            "120                                      Gillian Flynn             0.0   \n",
            "349                               William Hope Hodgson             0.0   \n",
            "76                           Николай Васильевич Гоголь             0.0   \n",
            "397                                    Agatha Christie             0.0   \n",
            "24                                     Margaret Atwood             0.0   \n",
            "211                                       Stephen King             0.0   \n",
            "142                                      Victoria Holt             0.0   \n",
            "245                                    James Patterson             0.0   \n",
            "298                                       John Grisham             0.0   \n",
            "359                                       John Grisham             0.0   \n",
            "358                                 Robert W. Chambers             0.0   \n",
            "104                                       Stephen King             0.0   \n",
            "332                                  Dorothy L. Sayers             0.0   \n",
            "81                                           Dan Brown             0.0   \n",
            "276                              Mary Roberts Rinehart             0.0   \n",
            "450                                        H. G. Wells             0.0   \n",
            "488                  Shirley Jackson, Bernadette Dunne             0.0   \n",
            "170                              Robert Lawrence Stine             0.0   \n",
            "173                                    Agatha Christie             0.0   \n",
            "313                                       Stephen King             0.0   \n",
            "160                                    James Patterson             0.0   \n",
            "131                                      Joseph Conrad             0.0   \n",
            "361                                       John Grisham             0.0   \n",
            "347                            Joseph Sheridan Le Fanu             0.0   \n",
            "178                                    James Patterson             0.0   \n",
            "352  Gilbert Keith Chesterton, Andronum (cover illu...             0.0   \n",
            "97                   Leonard Shortall, Donald J. Sobol             0.0   \n",
            "466                                    Agatha Christie             0.0   \n",
            "295                         Charles Fort, Charles Fort             0.0   \n",
            "101                                      V. C. Andrews             0.0   \n",
            "147                                    Elisabetta Dami             0.0   \n",
            "153                                          Dan Brown             0.0   \n",
            "414                                       John Grisham             0.0   \n",
            "368                                 Arthur Conan Doyle             0.0   \n",
            "19   Anna Katharine Green, Anna Katharine Green, Cy...             0.0   \n",
            "444                                       Sandra Brown             0.0   \n",
            "443                     Tess Gerritsen, Tess Gerritsen             0.0   \n",
            "66                                     Agatha Christie             0.0   \n",
            "354  Gilbert Keith Chesterton, Judith Boss, David W...             0.0   \n",
            "376                                       Rick Riordan             0.0   \n",
            "290                                    Agatha Christie             0.0   \n",
            "\n",
            "    categories Exclusive Shelf  \n",
            "408    Unknown             NaN  \n",
            "98     Unknown             NaN  \n",
            "455    Unknown             NaN  \n",
            "272    Unknown             NaN  \n",
            "106    Unknown             NaN  \n",
            "17     Unknown             NaN  \n",
            "324    Unknown             NaN  \n",
            "350    Unknown             NaN  \n",
            "212    Unknown             NaN  \n",
            "120    Unknown             NaN  \n",
            "349    Unknown             NaN  \n",
            "76     Unknown             NaN  \n",
            "397    Unknown             NaN  \n",
            "24     Unknown             NaN  \n",
            "211    Unknown             NaN  \n",
            "142    Unknown             NaN  \n",
            "245    Unknown             NaN  \n",
            "298    Unknown             NaN  \n",
            "359    Unknown             NaN  \n",
            "358    Unknown             NaN  \n",
            "104    Unknown             NaN  \n",
            "332    Unknown             NaN  \n",
            "81     Unknown             NaN  \n",
            "276    Unknown             NaN  \n",
            "450    Unknown             NaN  \n",
            "488    Unknown             NaN  \n",
            "170    Unknown             NaN  \n",
            "173    Unknown             NaN  \n",
            "313    Unknown             NaN  \n",
            "160    Unknown             NaN  \n",
            "131    Unknown             NaN  \n",
            "361    Unknown             NaN  \n",
            "347    Unknown             NaN  \n",
            "178    Unknown             NaN  \n",
            "352    Unknown             NaN  \n",
            "97     Unknown             NaN  \n",
            "466    Unknown             NaN  \n",
            "295    Unknown             NaN  \n",
            "101    Unknown             NaN  \n",
            "147    Unknown             NaN  \n",
            "153    Unknown             NaN  \n",
            "414    Unknown             NaN  \n",
            "368    Unknown             NaN  \n",
            "19     Unknown             NaN  \n",
            "444    Unknown             NaN  \n",
            "443    Unknown             NaN  \n",
            "66     Unknown             NaN  \n",
            "354    Unknown             NaN  \n",
            "376    Unknown             NaN  \n",
            "290    Unknown             NaN  \n"
          ]
        }
      ]
    },
    {
      "cell_type": "code",
      "source": [
        "np.save('combined_features.npy', combined_features.toarray())  # Save dense matrix (small datasets)"
      ],
      "metadata": {
        "id": "Yu92O4Tc-Zqe"
      },
      "execution_count": null,
      "outputs": []
    },
    {
      "cell_type": "code",
      "source": [
        "# Save df_global as CSV file\n",
        "df_global.to_csv('global_book_dataset.csv', index=False)"
      ],
      "metadata": {
        "id": "tU_kdxvd-iGb"
      },
      "execution_count": null,
      "outputs": []
    }
  ]
}